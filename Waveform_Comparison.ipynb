{
 "cells": [
  {
   "cell_type": "code",
   "execution_count": 35,
   "id": "4ce9c207-9219-43e1-afd9-99bac44216fa",
   "metadata": {},
   "outputs": [],
   "source": [
    "import numpy as np\n",
    "import strax\n",
    "import straxen\n",
    "import pandas as pd\n",
    "import nestpy   \n",
    "import wfsim\n",
    "\n",
    "import matplotlib.pyplot as plt\n",
    "from matplotlib.colors import LogNorm\n",
    "from multihist import Histdd, Hist1d\n",
    "from scipy import stats\n",
    "import RLdeconvolution\n",
    "import Selection\n",
    "from datetime import datetime \n",
    "import json"
   ]
  },
  {
   "cell_type": "code",
   "execution_count": 2,
   "id": "12a684b9-ac07-441f-a008-dd3882520b15",
   "metadata": {},
   "outputs": [
    {
     "name": "stdout",
     "output_type": "stream",
     "text": [
      "/opt/XENONnT/anaconda/envs/XENONnT_development/lib/python3.8/site-packages/straxen/__init__.py \n",
      " /home/changcai/.local/lib/python3.8/site-packages/wfsim/__init__.py\n"
     ]
    }
   ],
   "source": [
    "#check straxen and wfsim version\n",
    "print(straxen.__file__,'\\n',wfsim.__file__)"
   ]
  },
  {
   "cell_type": "code",
   "execution_count": 3,
   "id": "b5c5b034-2cd3-4490-8b37-a02813a9504e",
   "metadata": {},
   "outputs": [
    {
     "name": "stdout",
     "output_type": "stream",
     "text": [
      "Working on midway2-0417.rcc.local with the following versions and installation paths:\n",
      "python\tv3.8.11\t(default, Aug  3 2021, 15:09:35) [GCC 7.5.0]\n",
      "strax\tv0.16.1\t/opt/XENONnT/anaconda/envs/XENONnT_development/lib/python3.8/site-packages/strax\n",
      "straxen\tv0.19.3\t/opt/XENONnT/anaconda/envs/XENONnT_development/lib/python3.8/site-packages/straxen\n"
     ]
    }
   ],
   "source": [
    "straxen.print_versions(('strax', 'straxen'))"
   ]
  },
  {
   "cell_type": "markdown",
   "id": "208f3ccb-abda-407a-a1e1-ab865163e817",
   "metadata": {},
   "source": [
    "选取数据，以run 21445为例，选取顶部事件，比较S1的顶部与底部波形差异，进行解卷积，得到光传播时间分布\n",
    "=====\n",
    "当然这个过程可以简化，直接对TOP和BOTTOM的data加上人为的diffusion即可"
   ]
  },
  {
   "cell_type": "code",
   "execution_count": 4,
   "id": "796e8d98-bf72-4a31-9a5e-959945b1e926",
   "metadata": {},
   "outputs": [],
   "source": [
    "run_id = '021445'\n",
    "st = straxen.contexts.xenonnt_online(_add_online_monitor_frontend=True)\n",
    "st = straxen.contexts.xenonnt_online(output_folder='/home/changcai/scratch-midway2')\n",
    "st.storage.append(strax.DataDirectory('/dali/lgrandi/xenonnt/nveto/processed/', readonly=True))"
   ]
  },
  {
   "cell_type": "code",
   "execution_count": 5,
   "id": "1063065c-6473-47c7-8f40-8bbd766dae1f",
   "metadata": {},
   "outputs": [
    {
     "data": {
      "application/vnd.jupyter.widget-view+json": {
       "model_id": "9df2fb7d69ec444ebb6cff7954bb05b7",
       "version_major": 2,
       "version_minor": 0
      },
      "text/plain": [
       "Loading raw_records: |          | 0.00 % [00:00<?]"
      ]
     },
     "metadata": {},
     "output_type": "display_data"
    }
   ],
   "source": [
    "data = st.get_array('021445','raw_records',seconds_range=(0,1))"
   ]
  },
  {
   "cell_type": "code",
   "execution_count": 6,
   "id": "b62a1401-f136-4663-a395-daa2f39ac1e6",
   "metadata": {},
   "outputs": [
    {
     "data": {
      "text/plain": [
       "107690"
      ]
     },
     "execution_count": 6,
     "metadata": {},
     "output_type": "execute_result"
    }
   ],
   "source": [
    "len(data)"
   ]
  },
  {
   "cell_type": "code",
   "execution_count": 7,
   "id": "4f410a29-70bb-4789-aa32-fe26cd009729",
   "metadata": {},
   "outputs": [],
   "source": [
    "# Check if the 'event-info' of this run_id is available,if not:\n",
    "#st.make(run_id,'event_info')\n",
    "#this may take some time"
   ]
  },
  {
   "cell_type": "code",
   "execution_count": 8,
   "id": "96b7050c-2ebd-43b2-93a3-848a617171f4",
   "metadata": {},
   "outputs": [
    {
     "data": {
      "application/vnd.jupyter.widget-view+json": {
       "model_id": "f6ba9c8375704af68ddfbe63da877762",
       "version_major": 2,
       "version_minor": 0
      },
      "text/plain": [
       "Loading event_info: |          | 0.00 % [00:00<?]"
      ]
     },
     "metadata": {},
     "output_type": "display_data"
    }
   ],
   "source": [
    "events_info = st.get_array(run_id,'event_info',seconds_range = (0,40))"
   ]
  },
  {
   "cell_type": "code",
   "execution_count": 10,
   "id": "04fc3d47-501f-4aec-b6ba-6b76c75e169f",
   "metadata": {},
   "outputs": [],
   "source": [
    "#Select those events happened between z=-1 and z=0\n",
    "#Be careful that not all the events are S1S2 pairs, some may even have events_info['z']>0 \n",
    "selectdown = events_info['z']> -1 \n",
    "selectup = events_info['z']< 0 \n",
    "select = selectdown*selectup\n",
    "top_events = events_info[select]"
   ]
  },
  {
   "cell_type": "code",
   "execution_count": 11,
   "id": "72a21ae6-fbdc-4470-8a2a-e4645fb8b51f",
   "metadata": {},
   "outputs": [
    {
     "name": "stdout",
     "output_type": "stream",
     "text": [
      "281 64\n"
     ]
    },
    {
     "data": {
      "text/plain": [
       "(array([ 6.,  1.,  2.,  1.,  5.,  4.,  4.,  4., 11., 26.]),\n",
       " array([-9.7799420e-01, -8.8020158e-01, -7.8240889e-01, -6.8461627e-01,\n",
       "        -5.8682358e-01, -4.8903096e-01, -3.9123830e-01, -2.9344565e-01,\n",
       "        -1.9565301e-01, -9.7860351e-02, -6.7699999e-05], dtype=float32),\n",
       " <BarContainer object of 10 artists>)"
      ]
     },
     "execution_count": 11,
     "metadata": {},
     "output_type": "execute_result"
    },
    {
     "data": {
      "image/png": "[encoded data removed]",
      "text/plain": [
       "<Figure size 432x288 with 1 Axes>"
      ]
     },
     "metadata": {
      "needs_background": "light"
     },
     "output_type": "display_data"
    }
   ],
   "source": [
    "#If you want to check the data\n",
    "print(len(events_info),len(top_events))\n",
    "plt.hist(top_events['z'])"
   ]
  },
  {
   "cell_type": "code",
   "execution_count": 12,
   "id": "3c2d7798-81e6-445c-a622-b7610c49ed83",
   "metadata": {},
   "outputs": [
    {
     "data": {
      "application/vnd.jupyter.widget-view+json": {
       "model_id": "bb168be8528b40c4bb7be156f18f15ef",
       "version_major": 2,
       "version_minor": 0
      },
      "text/plain": [
       "Loading records: |          | 0.00 % [00:00<?]"
      ]
     },
     "metadata": {},
     "output_type": "display_data"
    }
   ],
   "source": [
    "#Load the records of the range\n",
    "records = st.get_array(run_id,'records',seconds_range=(0,40))"
   ]
  },
  {
   "cell_type": "code",
   "execution_count": 13,
   "id": "e2a48824-1529-43f3-8a3f-2f00d8fe5c11",
   "metadata": {},
   "outputs": [
    {
     "data": {
      "text/plain": [
       "835.4556"
      ]
     },
     "execution_count": 13,
     "metadata": {},
     "output_type": "execute_result"
    }
   ],
   "source": [
    "#Check the records data volume in mb, keep it smaller than the ram you could use\n",
    "records.nbytes/1e6"
   ]
  },
  {
   "cell_type": "code",
   "execution_count": 36,
   "id": "348189c5-c3d6-41d7-aa78-d91de26ac701",
   "metadata": {},
   "outputs": [],
   "source": [
    "a=datetime.now() \n",
    "for i in range(len(top_events)):\n",
    "    #get the first S1 and S2information\n",
    "    S1records, [s1start,s1end], S2records ,[s2start,s2end]= Selection.event_records_selection(records,top_events[i])\n",
    "b=datetime.now()"
   ]
  },
  {
   "cell_type": "code",
   "execution_count": 37,
   "id": "3cb9e664-92c1-4ee2-aa7d-94e2b64d457f",
   "metadata": {},
   "outputs": [
    {
     "data": {
      "text/plain": [
       "datetime.timedelta(seconds=26, microseconds=686347)"
      ]
     },
     "execution_count": 37,
     "metadata": {},
     "output_type": "execute_result"
    }
   ],
   "source": [
    "b-a"
   ]
  },
  {
   "cell_type": "code",
   "execution_count": 15,
   "id": "d5a69656-1314-4064-9266-6b5d819379a6",
   "metadata": {},
   "outputs": [],
   "source": [
    "#The channels belong to the top and bottom array\n",
    "channeltop = np.arange(0,253)\n",
    "channelbottom = np.arange(253,494)\n",
    "#the adc_to_pe map\n",
    "cmt=straxen.CorrectionsManagementServices()\n",
    "topemap = cmt.get_pmt_gains(run_id,'to_pe_model','ONLINE') #this would give you the actual gains "
   ]
  },
  {
   "cell_type": "code",
   "execution_count": 33,
   "id": "d93a403e-60ad-49c5-b3ed-52622356dca1",
   "metadata": {},
   "outputs": [],
   "source": [
    "#get the waveform of the S1 top and bottom array \n",
    "topS1data = Selection.sumrecords(S1records,channeltop,s1start,s1end,topemap)\n",
    "bottomS1data = Selection.sumrecords(S1records,channelbottom,s1start,s1end,topemap)\n",
    "#get the waveform of the S1 top and bottom array \n",
    "topS2data = Selection.sumrecords(S2records,channeltop,s2start,s2end,topemap)\n",
    "bottomS2data = Selection.sumrecords(S2records,channelbottom,s2start,s2end,topemap)"
   ]
  },
  {
   "cell_type": "code",
   "execution_count": 19,
   "id": "909e850a-88df-4105-af7b-26f8a4c6cc6d",
   "metadata": {},
   "outputs": [
    {
     "data": {
      "text/plain": [
       "[<matplotlib.lines.Line2D at 0x7f9110b016a0>]"
      ]
     },
     "execution_count": 19,
     "metadata": {},
     "output_type": "execute_result"
    },
    {
     "data": {
      "image/png": "[encoded data removed]",
      "text/plain": [
       "<Figure size 432x288 with 1 Axes>"
      ]
     },
     "metadata": {
      "needs_background": "light"
     },
     "output_type": "display_data"
    }
   ],
   "source": [
    "plt.plot(topS1data)\n",
    "plt.plot(bottomS1data)"
   ]
  },
  {
   "cell_type": "code",
   "execution_count": 34,
   "id": "51a4e07e-562a-484c-a249-38ccbf26f620",
   "metadata": {},
   "outputs": [
    {
     "data": {
      "text/plain": [
       "[<matplotlib.lines.Line2D at 0x7f9110234e80>]"
      ]
     },
     "execution_count": 34,
     "metadata": {},
     "output_type": "execute_result"
    },
    {
     "data": {
      "image/png": "[encoded data removed]",
      "text/plain": [
       "<Figure size 432x288 with 1 Axes>"
      ]
     },
     "metadata": {
      "needs_background": "light"
     },
     "output_type": "display_data"
    }
   ],
   "source": [
    "plt.plot(topS2data)\n",
    "plt.plot(bottomS2data)"
   ]
  },
  {
   "cell_type": "code",
   "execution_count": 29,
   "id": "4417739b-f9bc-4e76-b75e-5e08d92ef55b",
   "metadata": {},
   "outputs": [],
   "source": [
    "new_up = np.append(np.zeros(len(topS1data) - 1), topS1data)\n",
    "new_up = np.roll(new_up,-10)/np.sum(new_up)\n",
    "new_bottom = np.append(bottomS1data,np.zeros(len(bottomS1data) - 1))/np.sum(bottomS1data)\n",
    "new_bottom = np.append(new_bottom[:50],np.zeros(len(new_bottom)-50))"
   ]
  },
  {
   "cell_type": "code",
   "execution_count": 31,
   "id": "78157467-da4d-4150-99a5-490dfb45e69f",
   "metadata": {},
   "outputs": [
    {
     "name": "stderr",
     "output_type": "stream",
     "text": [
      "<ipython-input-31-7703211d2767>:1: RuntimeWarning: invalid value encountered in true_divide\n",
      "  array = new_bottom/np.convolve(new_bottom, new_up, mode='same')\n"
     ]
    },
    {
     "data": {
      "text/plain": [
       "[<matplotlib.lines.Line2D at 0x7f9110520d30>]"
      ]
     },
     "execution_count": 31,
     "metadata": {},
     "output_type": "execute_result"
    },
    {
     "data": {
      "image/png": "[encoded data removed]",
      "text/plain": [
       "<Figure size 432x288 with 1 Axes>"
      ]
     },
     "metadata": {
      "needs_background": "light"
     },
     "output_type": "display_data"
    }
   ],
   "source": [
    "array = new_bottom/np.convolve(new_bottom, new_up, mode='same')\n",
    "plt.plot(array[:50])"
   ]
  },
  {
   "cell_type": "code",
   "execution_count": 27,
   "id": "941b2fb6-3769-4ebd-947e-7b2dd210e848",
   "metadata": {},
   "outputs": [
    {
     "data": {
      "text/plain": [
       "[<matplotlib.lines.Line2D at 0x7f91106139d0>]"
      ]
     },
     "execution_count": 27,
     "metadata": {},
     "output_type": "execute_result"
    },
    {
     "data": {
      "image/png": "[encoded data removed]",
      "text/plain": [
       "<Figure size 900x600 with 1 Axes>"
      ]
     },
     "metadata": {
      "needs_background": "light"
     },
     "output_type": "display_data"
    }
   ],
   "source": [
    "plt.figure(dpi = 150)\n",
    "plt.plot(new_bottom)\n",
    "plt.plot(new_up,color = 'red')\n",
    "plt.plot(np.convolve(new_bottom, new_up, mode='same'))"
   ]
  },
  {
   "cell_type": "code",
   "execution_count": 24,
   "id": "379a323b-087f-4303-812d-e0f296e224eb",
   "metadata": {},
   "outputs": [
    {
     "name": "stderr",
     "output_type": "stream",
     "text": [
      "/home/changcai/reconstruction/RLdeconvolution.py:34: RuntimeWarning: invalid value encountered in true_divide\n",
      "  relative_blur = lowwave / np.convolve(low_deconv, upwave, mode='same')\n"
     ]
    }
   ],
   "source": [
    "#before the deconvolution, we need to make sure that the length of bottom*up is no longer than the length of bottom or up signal\n",
    "#put the up signal into the middle\n",
    "time_diffusion = RLdeconvolution.lucydconv(new_bottom, new_up,100)"
   ]
  },
  {
   "cell_type": "code",
   "execution_count": 25,
   "id": "fc05be6a-be9b-4aa2-aff2-d4e36a738a96",
   "metadata": {},
   "outputs": [
    {
     "data": {
      "text/plain": [
       "[<matplotlib.lines.Line2D at 0x7f911036c280>]"
      ]
     },
     "execution_count": 25,
     "metadata": {},
     "output_type": "execute_result"
    },
    {
     "data": {
      "image/png": "[encoded data removed]",
      "text/plain": [
       "<Figure size 432x288 with 1 Axes>"
      ]
     },
     "metadata": {
      "needs_background": "light"
     },
     "output_type": "display_data"
    }
   ],
   "source": [
    "plt.plot(time_diffusion[1])"
   ]
  },
  {
   "cell_type": "code",
   "execution_count": null,
   "id": "7fa0eadf-0ce0-4700-baaa-99067200543b",
   "metadata": {},
   "outputs": [],
   "source": []
  }
 ],
 "metadata": {
  "kernelspec": {
   "display_name": "Python 3",
   "language": "python",
   "name": "python3"
  },
  "language_info": {
   "codemirror_mode": {
    "name": "ipython",
    "version": 3
   },
   "file_extension": ".py",
   "mimetype": "text/x-python",
   "name": "python",
   "nbconvert_exporter": "python",
   "pygments_lexer": "ipython3",
   "version": "3.8.11"
  }
 },
 "nbformat": 4,
 "nbformat_minor": 5
}
